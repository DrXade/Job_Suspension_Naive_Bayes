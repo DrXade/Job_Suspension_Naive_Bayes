{
 "cells": [
  {
   "cell_type": "code",
   "execution_count": 2,
   "id": "38df5d5c-bc8b-4344-bdf2-1c82ab94da65",
   "metadata": {},
   "outputs": [],
   "source": [
    "import pandas as pd\n",
    "import numpy as np\n",
    "import seaborn as sns\n",
    "import matplotlib.pyplot as plt\n",
    "%matplotlib inline"
   ]
  },
  {
   "cell_type": "code",
   "execution_count": 3,
   "id": "93f03020-af41-4046-9d49-461a6825b241",
   "metadata": {},
   "outputs": [],
   "source": [
    "job=pd.read_excel(r\"C:\\Users\\User\\Desktop\\Study Guide\\ML Projects\\Supervised Learning\\Classification\\Naive Bayes\\Job_Suspension_Naive_Bayes\\Naive bayes.xlsx\")"
   ]
  },
  {
   "cell_type": "code",
   "execution_count": 4,
   "id": "f22814cc-6be3-4cf0-bf61-c1c7a198b897",
   "metadata": {},
   "outputs": [
    {
     "data": {
      "text/html": [
       "<div>\n",
       "<style scoped>\n",
       "    .dataframe tbody tr th:only-of-type {\n",
       "        vertical-align: middle;\n",
       "    }\n",
       "\n",
       "    .dataframe tbody tr th {\n",
       "        vertical-align: top;\n",
       "    }\n",
       "\n",
       "    .dataframe thead th {\n",
       "        text-align: right;\n",
       "    }\n",
       "</style>\n",
       "<table border=\"1\" class=\"dataframe\">\n",
       "  <thead>\n",
       "    <tr style=\"text-align: right;\">\n",
       "      <th></th>\n",
       "      <th>Job Id</th>\n",
       "      <th>Sched Date</th>\n",
       "      <th>Job Status</th>\n",
       "      <th>Account Number</th>\n",
       "      <th>Customer Name</th>\n",
       "      <th>Address 1</th>\n",
       "      <th>Address 2</th>\n",
       "      <th>City</th>\n",
       "      <th>Olt</th>\n",
       "      <th>Area</th>\n",
       "      <th>...</th>\n",
       "      <th>Suspension type</th>\n",
       "      <th>Comments</th>\n",
       "      <th>Time On Site</th>\n",
       "      <th>Time Off Site</th>\n",
       "      <th>Duration</th>\n",
       "      <th>Stb</th>\n",
       "      <th>Team Manager</th>\n",
       "      <th>Tech1</th>\n",
       "      <th>Tech2</th>\n",
       "      <th>Sda</th>\n",
       "    </tr>\n",
       "  </thead>\n",
       "  <tbody>\n",
       "    <tr>\n",
       "      <th>0</th>\n",
       "      <td>1540898</td>\n",
       "      <td>2024-04-28</td>\n",
       "      <td>Suspended</td>\n",
       "      <td>242000080007</td>\n",
       "      <td>JAMILA MITCHELL</td>\n",
       "      <td>10421353, WALLACE ST BLDG:SDU::10421353</td>\n",
       "      <td>LAVENTILLE</td>\n",
       "      <td>LAVENTILLE</td>\n",
       "      <td>NaN</td>\n",
       "      <td>Trinidad</td>\n",
       "      <td>...</td>\n",
       "      <td>DI</td>\n",
       "      <td>Job created by Love Saint Louis M.C Flawen, Cu...</td>\n",
       "      <td>NaN</td>\n",
       "      <td>NaN</td>\n",
       "      <td>NaN</td>\n",
       "      <td>0</td>\n",
       "      <td>Burke Jowayne</td>\n",
       "      <td>Claeron Austin</td>\n",
       "      <td>NaN</td>\n",
       "      <td>18683500147</td>\n",
       "    </tr>\n",
       "    <tr>\n",
       "      <th>1</th>\n",
       "      <td>1540896</td>\n",
       "      <td>2024-04-28</td>\n",
       "      <td>Suspended</td>\n",
       "      <td>242000228100</td>\n",
       "      <td>ANTHONY WODROFFE</td>\n",
       "      <td>10418727, SOHON TR BLDG:SDU::10418727</td>\n",
       "      <td>LAVENTILLE Trinidad and Tobago</td>\n",
       "      <td>LAVENTILLE</td>\n",
       "      <td>NaN</td>\n",
       "      <td>Trinidad</td>\n",
       "      <td>...</td>\n",
       "      <td>DI</td>\n",
       "      <td>Job created by Farquharson Javaun</td>\n",
       "      <td>NaN</td>\n",
       "      <td>NaN</td>\n",
       "      <td>NaN</td>\n",
       "      <td>0</td>\n",
       "      <td>Burke Jowayne</td>\n",
       "      <td>Claeron Austin</td>\n",
       "      <td>NaN</td>\n",
       "      <td>18687580680</td>\n",
       "    </tr>\n",
       "    <tr>\n",
       "      <th>2</th>\n",
       "      <td>1540861</td>\n",
       "      <td>2024-04-28</td>\n",
       "      <td>Suspended</td>\n",
       "      <td>242000235814</td>\n",
       "      <td>YASEEN ALLSOP</td>\n",
       "      <td>10162809, 10162809 BLDG:SDU::10162809</td>\n",
       "      <td>MORVANT Trinidad and Tobago</td>\n",
       "      <td>MORVANT</td>\n",
       "      <td>NaN</td>\n",
       "      <td>Trinidad</td>\n",
       "      <td>...</td>\n",
       "      <td>DI</td>\n",
       "      <td>Job created by Gray Gabrielle , Cx is offline ...</td>\n",
       "      <td>NaN</td>\n",
       "      <td>NaN</td>\n",
       "      <td>NaN</td>\n",
       "      <td>0</td>\n",
       "      <td>Nedd Carie</td>\n",
       "      <td>Nicholas Young</td>\n",
       "      <td>NaN</td>\n",
       "      <td>18683532645</td>\n",
       "    </tr>\n",
       "    <tr>\n",
       "      <th>3</th>\n",
       "      <td>1540626</td>\n",
       "      <td>2024-04-26</td>\n",
       "      <td>Suspended</td>\n",
       "      <td>242000284920</td>\n",
       "      <td>Interamerican Institute for Corporation and Ag...</td>\n",
       "      <td>6267228, 6267228</td>\n",
       "      <td>BLDG:SDU::6267228</td>\n",
       "      <td>ST. JOSEPH</td>\n",
       "      <td>NaN</td>\n",
       "      <td>Trinidad</td>\n",
       "      <td>...</td>\n",
       "      <td>DI</td>\n",
       "      <td>Job created by USER ADMIN, due to time constra...</td>\n",
       "      <td>NaN</td>\n",
       "      <td>NaN</td>\n",
       "      <td>NaN</td>\n",
       "      <td>0</td>\n",
       "      <td>Reyes Edward</td>\n",
       "      <td>Amilcar Franklin</td>\n",
       "      <td>NaN</td>\n",
       "      <td>0</td>\n",
       "    </tr>\n",
       "    <tr>\n",
       "      <th>4</th>\n",
       "      <td>1540563</td>\n",
       "      <td>2024-04-27</td>\n",
       "      <td>Suspended</td>\n",
       "      <td>242000149348</td>\n",
       "      <td>TRICIA DARCEUIL-WILSON</td>\n",
       "      <td>4317129, COVIGNE ROAD BLDG:MDU::4317129</td>\n",
       "      <td>DIEGO MARTIN</td>\n",
       "      <td>DIEGO MARTIN</td>\n",
       "      <td>NaN</td>\n",
       "      <td>Trinidad</td>\n",
       "      <td>...</td>\n",
       "      <td>DI</td>\n",
       "      <td>Job created by Haynes Elika , No internet, LOS...</td>\n",
       "      <td>NaN</td>\n",
       "      <td>2024-04-27 16:33:23</td>\n",
       "      <td>NaN</td>\n",
       "      <td>0</td>\n",
       "      <td>Mitchell Dwayne TM</td>\n",
       "      <td>Kern Hughes</td>\n",
       "      <td>NaN</td>\n",
       "      <td>18683409092</td>\n",
       "    </tr>\n",
       "  </tbody>\n",
       "</table>\n",
       "<p>5 rows × 27 columns</p>\n",
       "</div>"
      ],
      "text/plain": [
       "    Job Id Sched Date Job Status Account Number  \\\n",
       "0  1540898 2024-04-28  Suspended   242000080007   \n",
       "1  1540896 2024-04-28  Suspended   242000228100   \n",
       "2  1540861 2024-04-28  Suspended   242000235814   \n",
       "3  1540626 2024-04-26  Suspended   242000284920   \n",
       "4  1540563 2024-04-27  Suspended   242000149348   \n",
       "\n",
       "                                       Customer Name  \\\n",
       "0                                    JAMILA MITCHELL   \n",
       "1                                   ANTHONY WODROFFE   \n",
       "2                                      YASEEN ALLSOP   \n",
       "3  Interamerican Institute for Corporation and Ag...   \n",
       "4                             TRICIA DARCEUIL-WILSON   \n",
       "\n",
       "                                 Address 1                         Address 2  \\\n",
       "0  10421353, WALLACE ST BLDG:SDU::10421353                      LAVENTILLE     \n",
       "1    10418727, SOHON TR BLDG:SDU::10418727   LAVENTILLE Trinidad and Tobago    \n",
       "2    10162809, 10162809 BLDG:SDU::10162809      MORVANT Trinidad and Tobago    \n",
       "3                         6267228, 6267228                 BLDG:SDU::6267228   \n",
       "4  4317129, COVIGNE ROAD BLDG:MDU::4317129                    DIEGO MARTIN     \n",
       "\n",
       "           City  Olt      Area  ...  Suspension type  \\\n",
       "0    LAVENTILLE  NaN  Trinidad  ...               DI   \n",
       "1    LAVENTILLE  NaN  Trinidad  ...               DI   \n",
       "2       MORVANT  NaN  Trinidad  ...               DI   \n",
       "3    ST. JOSEPH  NaN  Trinidad  ...               DI   \n",
       "4  DIEGO MARTIN  NaN  Trinidad  ...               DI   \n",
       "\n",
       "                                            Comments Time On Site  \\\n",
       "0  Job created by Love Saint Louis M.C Flawen, Cu...          NaN   \n",
       "1                 Job created by Farquharson Javaun           NaN   \n",
       "2  Job created by Gray Gabrielle , Cx is offline ...          NaN   \n",
       "3  Job created by USER ADMIN, due to time constra...          NaN   \n",
       "4  Job created by Haynes Elika , No internet, LOS...          NaN   \n",
       "\n",
       "         Time Off Site  Duration Stb        Team Manager             Tech1  \\\n",
       "0                  NaN       NaN   0       Burke Jowayne   Claeron Austin    \n",
       "1                  NaN       NaN   0       Burke Jowayne   Claeron Austin    \n",
       "2                  NaN       NaN   0          Nedd Carie    Nicholas Young   \n",
       "3                  NaN       NaN   0        Reyes Edward  Amilcar Franklin   \n",
       "4  2024-04-27 16:33:23       NaN   0  Mitchell Dwayne TM       Kern Hughes   \n",
       "\n",
       "  Tech2          Sda  \n",
       "0   NaN  18683500147  \n",
       "1   NaN  18687580680  \n",
       "2   NaN  18683532645  \n",
       "3   NaN            0  \n",
       "4   NaN  18683409092  \n",
       "\n",
       "[5 rows x 27 columns]"
      ]
     },
     "execution_count": 4,
     "metadata": {},
     "output_type": "execute_result"
    }
   ],
   "source": [
    "job.head()"
   ]
  },
  {
   "cell_type": "code",
   "execution_count": 6,
   "id": "e0d6cfc6-2f99-44c3-813b-1f133db0b259",
   "metadata": {},
   "outputs": [
    {
     "data": {
      "text/plain": [
       "['Job Id',\n",
       " 'Sched Date',\n",
       " 'Job Status',\n",
       " 'Account Number',\n",
       " 'Customer Name',\n",
       " 'Address 1',\n",
       " 'Address 2',\n",
       " 'City',\n",
       " 'Olt',\n",
       " 'Area',\n",
       " 'Eta',\n",
       " 'Address On Wo',\n",
       " 'Job Type',\n",
       " 'Job Details',\n",
       " 'Package Type',\n",
       " 'Fat Name',\n",
       " 'Reason For Suspend',\n",
       " 'Suspension type',\n",
       " 'Comments',\n",
       " 'Time On Site',\n",
       " 'Time Off Site',\n",
       " 'Duration',\n",
       " 'Stb',\n",
       " 'Team Manager',\n",
       " 'Tech1',\n",
       " 'Tech2',\n",
       " 'Sda']"
      ]
     },
     "execution_count": 6,
     "metadata": {},
     "output_type": "execute_result"
    }
   ],
   "source": [
    "list(job.columns)"
   ]
  },
  {
   "cell_type": "code",
   "execution_count": 9,
   "id": "b223d8b6-871e-4043-9c7f-bfdda719b6a4",
   "metadata": {},
   "outputs": [],
   "source": [
    "job = job.drop(columns = [\"Job Id\",\"Sched Date\",'Job Status','Account Number','Customer Name','Address 1','Address 2','City','Olt',\n",
    " 'Area','Eta','Address On Wo','Job Type','Job Details','Package Type','Fat Name','Reason For Suspend','Time On Site','Time Off Site','Duration','Stb','Team Manager',\n",
    " 'Tech1','Tech2','Sda'])"
   ]
  },
  {
   "cell_type": "code",
   "execution_count": 11,
   "id": "ee40e55b-5a9b-4910-a8db-f94adecaadc8",
   "metadata": {},
   "outputs": [
    {
     "data": {
      "text/html": [
       "<div>\n",
       "<style scoped>\n",
       "    .dataframe tbody tr th:only-of-type {\n",
       "        vertical-align: middle;\n",
       "    }\n",
       "\n",
       "    .dataframe tbody tr th {\n",
       "        vertical-align: top;\n",
       "    }\n",
       "\n",
       "    .dataframe thead th {\n",
       "        text-align: right;\n",
       "    }\n",
       "</style>\n",
       "<table border=\"1\" class=\"dataframe\">\n",
       "  <thead>\n",
       "    <tr style=\"text-align: right;\">\n",
       "      <th></th>\n",
       "      <th>Suspension type</th>\n",
       "      <th>Comments</th>\n",
       "    </tr>\n",
       "  </thead>\n",
       "  <tbody>\n",
       "    <tr>\n",
       "      <th>1504</th>\n",
       "      <td>CU</td>\n",
       "      <td>Job created by USER ADMIN, customer contacted ...</td>\n",
       "    </tr>\n",
       "    <tr>\n",
       "      <th>3193</th>\n",
       "      <td>DI</td>\n",
       "      <td>Job created by USER ADMIN,  Call Ahead Confirm...</td>\n",
       "    </tr>\n",
       "    <tr>\n",
       "      <th>3740</th>\n",
       "      <td>DI</td>\n",
       "      <td>Job created by USER ADMIN, ETA FAILED - AE02DJ...</td>\n",
       "    </tr>\n",
       "    <tr>\n",
       "      <th>2786</th>\n",
       "      <td>DI</td>\n",
       "      <td>Job created by USER ADMIN, Call ahead confirme...</td>\n",
       "    </tr>\n",
       "    <tr>\n",
       "      <th>795</th>\n",
       "      <td>DI</td>\n",
       "      <td>Job created by Archie La Donna, please assist ...</td>\n",
       "    </tr>\n",
       "    <tr>\n",
       "      <th>2425</th>\n",
       "      <td>DI</td>\n",
       "      <td>Job created by Clarke Davian, Info Checked - A...</td>\n",
       "    </tr>\n",
       "    <tr>\n",
       "      <th>902</th>\n",
       "      <td>DI</td>\n",
       "      <td>Job created by USER ADMIN, 18683809676- confir...</td>\n",
       "    </tr>\n",
       "    <tr>\n",
       "      <th>903</th>\n",
       "      <td>DI</td>\n",
       "      <td>Job created by USER ADMIN, SIMEON ROAD, 186878...</td>\n",
       "    </tr>\n",
       "    <tr>\n",
       "      <th>1516</th>\n",
       "      <td>DI</td>\n",
       "      <td>Job created by USER ADMIN, Call Ahead Confirme...</td>\n",
       "    </tr>\n",
       "    <tr>\n",
       "      <th>3547</th>\n",
       "      <td>CU</td>\n",
       "      <td>Job created by USER ADMIN, Call Ahead Confirme...</td>\n",
       "    </tr>\n",
       "  </tbody>\n",
       "</table>\n",
       "</div>"
      ],
      "text/plain": [
       "     Suspension type                                           Comments\n",
       "1504              CU  Job created by USER ADMIN, customer contacted ...\n",
       "3193              DI  Job created by USER ADMIN,  Call Ahead Confirm...\n",
       "3740              DI  Job created by USER ADMIN, ETA FAILED - AE02DJ...\n",
       "2786              DI  Job created by USER ADMIN, Call ahead confirme...\n",
       "795               DI  Job created by Archie La Donna, please assist ...\n",
       "2425              DI  Job created by Clarke Davian, Info Checked - A...\n",
       "902               DI  Job created by USER ADMIN, 18683809676- confir...\n",
       "903               DI  Job created by USER ADMIN, SIMEON ROAD, 186878...\n",
       "1516              DI  Job created by USER ADMIN, Call Ahead Confirme...\n",
       "3547              CU  Job created by USER ADMIN, Call Ahead Confirme..."
      ]
     },
     "execution_count": 11,
     "metadata": {},
     "output_type": "execute_result"
    }
   ],
   "source": [
    "job.sample(10)"
   ]
  },
  {
   "cell_type": "code",
   "execution_count": 19,
   "id": "13ee619c-5f2b-43b1-bf0f-2dcaf3513c31",
   "metadata": {},
   "outputs": [
    {
     "data": {
      "text/plain": [
       "0       Job created by Love Saint Louis M.C Flawen, Cu...\n",
       "1                      Job created by Farquharson Javaun \n",
       "2       Job created by Gray Gabrielle , Cx is offline ...\n",
       "3       Job created by USER ADMIN, due to time constra...\n",
       "4       Job created by Haynes Elika , No internet, LOS...\n",
       "                              ...                        \n",
       "4278    Job created by Sobers Anesia, Customer said th...\n",
       "4279                          Job created by Worrell Kyle\n",
       "4280    Job created by USER ADMIN, 10.6373940000-61.33...\n",
       "4281    Job created by Caton Keisha, this no.186835111...\n",
       "4282    Job created by USER ADMIN, ETA CONFIRMED - AE0...\n",
       "Name: Comments, Length: 4283, dtype: string"
      ]
     },
     "execution_count": 19,
     "metadata": {},
     "output_type": "execute_result"
    }
   ],
   "source": [
    "job[\"Comments\"].astype('string')"
   ]
  },
  {
   "cell_type": "code",
   "execution_count": 24,
   "id": "2868d87e-b4fe-4256-bc8f-20906ba27dfd",
   "metadata": {},
   "outputs": [
    {
     "data": {
      "text/html": [
       "<div>\n",
       "<style scoped>\n",
       "    .dataframe tbody tr th:only-of-type {\n",
       "        vertical-align: middle;\n",
       "    }\n",
       "\n",
       "    .dataframe tbody tr th {\n",
       "        vertical-align: top;\n",
       "    }\n",
       "\n",
       "    .dataframe thead th {\n",
       "        text-align: right;\n",
       "    }\n",
       "</style>\n",
       "<table border=\"1\" class=\"dataframe\">\n",
       "  <thead>\n",
       "    <tr style=\"text-align: right;\">\n",
       "      <th></th>\n",
       "      <th>Suspension type</th>\n",
       "      <th>Comments</th>\n",
       "    </tr>\n",
       "  </thead>\n",
       "  <tbody>\n",
       "    <tr>\n",
       "      <th>0</th>\n",
       "      <td>DI</td>\n",
       "      <td>Job created by Love Saint Louis M.C Flawen, Cu...</td>\n",
       "    </tr>\n",
       "    <tr>\n",
       "      <th>1</th>\n",
       "      <td>DI</td>\n",
       "      <td>Job created by Farquharson Javaun</td>\n",
       "    </tr>\n",
       "    <tr>\n",
       "      <th>2</th>\n",
       "      <td>DI</td>\n",
       "      <td>Job created by Gray Gabrielle , Cx is offline ...</td>\n",
       "    </tr>\n",
       "    <tr>\n",
       "      <th>3</th>\n",
       "      <td>DI</td>\n",
       "      <td>Job created by USER ADMIN, due to time constra...</td>\n",
       "    </tr>\n",
       "    <tr>\n",
       "      <th>4</th>\n",
       "      <td>DI</td>\n",
       "      <td>Job created by Haynes Elika , No internet, LOS...</td>\n",
       "    </tr>\n",
       "    <tr>\n",
       "      <th>...</th>\n",
       "      <td>...</td>\n",
       "      <td>...</td>\n",
       "    </tr>\n",
       "    <tr>\n",
       "      <th>4278</th>\n",
       "      <td>DI</td>\n",
       "      <td>Job created by Sobers Anesia, Customer said th...</td>\n",
       "    </tr>\n",
       "    <tr>\n",
       "      <th>4279</th>\n",
       "      <td>DI</td>\n",
       "      <td>Job created by Worrell Kyle</td>\n",
       "    </tr>\n",
       "    <tr>\n",
       "      <th>4280</th>\n",
       "      <td>DI</td>\n",
       "      <td>Job created by USER ADMIN, .-. , Confirmed ETA...</td>\n",
       "    </tr>\n",
       "    <tr>\n",
       "      <th>4281</th>\n",
       "      <td>CU</td>\n",
       "      <td>Job created by Caton Keisha, this no. seem to ...</td>\n",
       "    </tr>\n",
       "    <tr>\n",
       "      <th>4282</th>\n",
       "      <td>DI</td>\n",
       "      <td>Job created by USER ADMIN, ETA CONFIRMED - AEL...</td>\n",
       "    </tr>\n",
       "  </tbody>\n",
       "</table>\n",
       "<p>4283 rows × 2 columns</p>\n",
       "</div>"
      ],
      "text/plain": [
       "     Suspension type                                           Comments\n",
       "0                 DI  Job created by Love Saint Louis M.C Flawen, Cu...\n",
       "1                 DI                 Job created by Farquharson Javaun \n",
       "2                 DI  Job created by Gray Gabrielle , Cx is offline ...\n",
       "3                 DI  Job created by USER ADMIN, due to time constra...\n",
       "4                 DI  Job created by Haynes Elika , No internet, LOS...\n",
       "...              ...                                                ...\n",
       "4278              DI  Job created by Sobers Anesia, Customer said th...\n",
       "4279              DI                        Job created by Worrell Kyle\n",
       "4280              DI  Job created by USER ADMIN, .-. , Confirmed ETA...\n",
       "4281              CU  Job created by Caton Keisha, this no. seem to ...\n",
       "4282              DI  Job created by USER ADMIN, ETA CONFIRMED - AEL...\n",
       "\n",
       "[4283 rows x 2 columns]"
      ]
     },
     "execution_count": 24,
     "metadata": {},
     "output_type": "execute_result"
    }
   ],
   "source": [
    "#strip numbers from text\n",
    "job.replace(r'\\d+', '', regex=True)"
   ]
  },
  {
   "cell_type": "code",
   "execution_count": 25,
   "id": "0eff5d85-252e-43f6-9065-3f7f6bc75cd9",
   "metadata": {},
   "outputs": [
    {
     "data": {
      "text/plain": [
       "0       Job created by Love Saint Louis M.C Flawen, Cu...\n",
       "1                      Job created by Farquharson Javaun \n",
       "2       Job created by Gray Gabrielle , Cx is offline ...\n",
       "3       Job created by USER ADMIN, due to time constra...\n",
       "4       Job created by Haynes Elika , No internet, LOS...\n",
       "                              ...                        \n",
       "4278    Job created by Sobers Anesia, Customer said th...\n",
       "4279                          Job created by Worrell Kyle\n",
       "4280    Job created by USER ADMIN, .-. , Confirmed ETA...\n",
       "4281    Job created by Caton Keisha, this no. seem to ...\n",
       "4282    Job created by USER ADMIN, ETA CONFIRMED - AEL...\n",
       "Name: Comments, Length: 4283, dtype: object"
      ]
     },
     "execution_count": 25,
     "metadata": {},
     "output_type": "execute_result"
    }
   ],
   "source": [
    "job[\"Comments\"].astype('str')"
   ]
  },
  {
   "cell_type": "code",
   "execution_count": 32,
   "id": "4b2c00a8-3d6f-4aa3-b7dc-bb01b3ae064b",
   "metadata": {},
   "outputs": [
    {
     "data": {
      "text/plain": [
       "Suspension type\n",
       "DI    3657\n",
       "CU     626\n",
       "Name: count, dtype: int64"
      ]
     },
     "execution_count": 32,
     "metadata": {},
     "output_type": "execute_result"
    }
   ],
   "source": [
    "job['Suspension type'].value_counts()"
   ]
  },
  {
   "cell_type": "code",
   "execution_count": 46,
   "id": "745caea9-5cc1-4cd2-b94f-d09ca3d34aa0",
   "metadata": {},
   "outputs": [],
   "source": [
    "y_plot = job[\"Suspension type\"].value_counts()\n"
   ]
  },
  {
   "cell_type": "code",
   "execution_count": 52,
   "id": "df833b50-eda1-458b-92b6-5248ba9eb1ef",
   "metadata": {},
   "outputs": [],
   "source": [
    "X =job.iloc[:,:-1].values\n",
    "y=job.iloc[:,-1].values"
   ]
  },
  {
   "cell_type": "code",
   "execution_count": 106,
   "id": "acca288f-cced-4e55-960b-f3628dda714f",
   "metadata": {},
   "outputs": [
    {
     "data": {
      "text/plain": [
       "<BarContainer object of 2 artists>"
      ]
     },
     "execution_count": 106,
     "metadata": {},
     "output_type": "execute_result"
    },
    {
     "data": {
      "image/png": "[encoded data removed]",
      "text/plain": [
       "<Figure size 400x200 with 1 Axes>"
      ]
     },
     "metadata": {},
     "output_type": "display_data"
    }
   ],
   "source": [
    "fig,ax = plt.subplots(nrows=1,ncols=1, figsize=(4,2))\n",
    "ax.bar(y_plot.index,y_plot.values)"
   ]
  },
  {
   "cell_type": "code",
   "execution_count": 212,
   "id": "5e64ec66-fd48-44bb-8e0b-8aca99d7f21e",
   "metadata": {},
   "outputs": [],
   "source": [
    "def extract_last_100_words(df, column_name):\n",
    "         df[column_name] = df[column_name].apply(lambda x: ' '.join(str(x).split()[-100 :]) if isinstance(x, str) else x)\n",
    "         return df\n",
    "\n",
    "         # Apply the truncation function to the specified column\n",
    "         df[column_name] = df[column_name].apply(truncate_text)\n",
    "         return df\n"
   ]
  },
  {
   "cell_type": "code",
   "execution_count": 213,
   "id": "ff3e5b5a-86e5-4793-870a-20c2c0e336d2",
   "metadata": {},
   "outputs": [
    {
     "data": {
      "text/html": [
       "<div>\n",
       "<style scoped>\n",
       "    .dataframe tbody tr th:only-of-type {\n",
       "        vertical-align: middle;\n",
       "    }\n",
       "\n",
       "    .dataframe tbody tr th {\n",
       "        vertical-align: top;\n",
       "    }\n",
       "\n",
       "    .dataframe thead th {\n",
       "        text-align: right;\n",
       "    }\n",
       "</style>\n",
       "<table border=\"1\" class=\"dataframe\">\n",
       "  <thead>\n",
       "    <tr style=\"text-align: right;\">\n",
       "      <th></th>\n",
       "      <th>Suspension type</th>\n",
       "      <th>Comments</th>\n",
       "    </tr>\n",
       "  </thead>\n",
       "  <tbody>\n",
       "    <tr>\n",
       "      <th>0</th>\n",
       "      <td>DI</td>\n",
       "      <td>Job created by Love Saint Louis M.C Flawen, Cu...</td>\n",
       "    </tr>\n",
       "    <tr>\n",
       "      <th>1</th>\n",
       "      <td>DI</td>\n",
       "      <td>Job created by Farquharson Javaun</td>\n",
       "    </tr>\n",
       "    <tr>\n",
       "      <th>2</th>\n",
       "      <td>DI</td>\n",
       "      <td>Job created by Gray Gabrielle , Cx is offline ...</td>\n",
       "    </tr>\n",
       "    <tr>\n",
       "      <th>3</th>\n",
       "      <td>DI</td>\n",
       "      <td>Job created by USER ADMIN, due to time constra...</td>\n",
       "    </tr>\n",
       "    <tr>\n",
       "      <th>4</th>\n",
       "      <td>DI</td>\n",
       "      <td>Job created by Haynes Elika , No internet, LOS...</td>\n",
       "    </tr>\n",
       "    <tr>\n",
       "      <th>...</th>\n",
       "      <td>...</td>\n",
       "      <td>...</td>\n",
       "    </tr>\n",
       "    <tr>\n",
       "      <th>4278</th>\n",
       "      <td>DI</td>\n",
       "      <td>Job created by Sobers Anesia, Customer said th...</td>\n",
       "    </tr>\n",
       "    <tr>\n",
       "      <th>4279</th>\n",
       "      <td>DI</td>\n",
       "      <td>Job created by Worrell Kyle</td>\n",
       "    </tr>\n",
       "    <tr>\n",
       "      <th>4280</th>\n",
       "      <td>DI</td>\n",
       "      <td>Job created by USER ADMIN, .-. , Confirmed ETA...</td>\n",
       "    </tr>\n",
       "    <tr>\n",
       "      <th>4281</th>\n",
       "      <td>CU</td>\n",
       "      <td>Job created by Caton Keisha, this no. seem to ...</td>\n",
       "    </tr>\n",
       "    <tr>\n",
       "      <th>4282</th>\n",
       "      <td>DI</td>\n",
       "      <td>any word from T&amp;TEC,he will reapply when ready...</td>\n",
       "    </tr>\n",
       "  </tbody>\n",
       "</table>\n",
       "<p>4283 rows × 2 columns</p>\n",
       "</div>"
      ],
      "text/plain": [
       "     Suspension type                                           Comments\n",
       "0                 DI  Job created by Love Saint Louis M.C Flawen, Cu...\n",
       "1                 DI                  Job created by Farquharson Javaun\n",
       "2                 DI  Job created by Gray Gabrielle , Cx is offline ...\n",
       "3                 DI  Job created by USER ADMIN, due to time constra...\n",
       "4                 DI  Job created by Haynes Elika , No internet, LOS...\n",
       "...              ...                                                ...\n",
       "4278              DI  Job created by Sobers Anesia, Customer said th...\n",
       "4279              DI                        Job created by Worrell Kyle\n",
       "4280              DI  Job created by USER ADMIN, .-. , Confirmed ETA...\n",
       "4281              CU  Job created by Caton Keisha, this no. seem to ...\n",
       "4282              DI  any word from T&TEC,he will reapply when ready...\n",
       "\n",
       "[4283 rows x 2 columns]"
      ]
     },
     "execution_count": 213,
     "metadata": {},
     "output_type": "execute_result"
    }
   ],
   "source": [
    "extract_last_100_words(job,\"Comments\")"
   ]
  },
  {
   "cell_type": "code",
   "execution_count": 214,
   "id": "d795afba-6322-4830-84f8-90a963ee0292",
   "metadata": {},
   "outputs": [],
   "source": [
    "X=job[\"Comments\"].astype('str')\n",
    "y=job[\"Suspension type\"]"
   ]
  },
  {
   "cell_type": "code",
   "execution_count": null,
   "id": "77ef840a-35a2-4f7a-837a-b55c3c0a3f4f",
   "metadata": {},
   "outputs": [],
   "source": []
  },
  {
   "cell_type": "code",
   "execution_count": 215,
   "id": "826a493f-32d1-4b16-9c2e-d7e3a36dde45",
   "metadata": {},
   "outputs": [],
   "source": [
    "from sklearn.model_selection import train_test_split\n",
    "X_train,X_test,y_train,y_test = train_test_split(X,y,test_size=.2,random_state=0)"
   ]
  },
  {
   "cell_type": "code",
   "execution_count": 216,
   "id": "5be9e47f-b0ae-4343-8d4c-3b0cac4643ae",
   "metadata": {},
   "outputs": [],
   "source": [
    "from sklearn.feature_extraction.text import TfidfVectorizer\n",
    "from sklearn.pipeline import make_pipeline\n",
    "from sklearn.naive_bayes import MultinomialNB"
   ]
  },
  {
   "cell_type": "code",
   "execution_count": 217,
   "id": "12424a6e-6d9e-4be5-8ae2-9402a75a0f5d",
   "metadata": {},
   "outputs": [],
   "source": [
    "vectorizer =TfidfVectorizer()\n",
    "X_train_vec=vectorizer.fit_transform(X_train)\n",
    "X_test_vec=vectorizer.transform(X_test)"
   ]
  },
  {
   "cell_type": "code",
   "execution_count": 218,
   "id": "e3eb8657-dd7f-488e-9d0c-5a00fc104416",
   "metadata": {},
   "outputs": [],
   "source": [
    "from imblearn.over_sampling import SMOTE\n",
    "smote=SMOTE()\n",
    "X_train_sm,y_train_sm = smote.fit_resample(X_train_vec,y_train)"
   ]
  },
  {
   "cell_type": "code",
   "execution_count": 219,
   "id": "e8b38a83-45e2-460d-9691-0fb9aa7afca4",
   "metadata": {},
   "outputs": [],
   "source": [
    "y_sm_plot=y_train_sm.value_counts()\n"
   ]
  },
  {
   "cell_type": "code",
   "execution_count": 220,
   "id": "992843c7-9805-4210-a25c-b6e928d7eea1",
   "metadata": {},
   "outputs": [
    {
     "data": {
      "text/plain": [
       "<BarContainer object of 2 artists>"
      ]
     },
     "execution_count": 220,
     "metadata": {},
     "output_type": "execute_result"
    },
    {
     "data": {
      "image/png": "[encoded data removed]",
      "text/plain": [
       "<Figure size 400x200 with 1 Axes>"
      ]
     },
     "metadata": {},
     "output_type": "display_data"
    }
   ],
   "source": [
    "fig,ax = plt.subplots(nrows=1,ncols=1, figsize=(4,2))\n",
    "ax.bar(y_sm_plot.index,y_sm_plot.values)\n"
   ]
  },
  {
   "cell_type": "code",
   "execution_count": 221,
   "id": "59d8a18b-0c98-405a-aab0-33363adc1fe4",
   "metadata": {},
   "outputs": [],
   "source": [
    "model=make_pipeline(MultinomialNB())\n",
    "model.fit(X_train_sm,y_train_sm)\n",
    "y_pred=model.predict(X_test_vec)"
   ]
  },
  {
   "cell_type": "code",
   "execution_count": 222,
   "id": "2965a145-b872-4799-8858-8537829c39df",
   "metadata": {},
   "outputs": [
    {
     "data": {
      "text/plain": [
       "0.9069609507640068"
      ]
     },
     "execution_count": 222,
     "metadata": {},
     "output_type": "execute_result"
    }
   ],
   "source": [
    "model.score(X_train_sm,y_train_sm)"
   ]
  },
  {
   "cell_type": "code",
   "execution_count": 223,
   "id": "6948286c-622d-4af9-a2ec-2b821bb4b181",
   "metadata": {},
   "outputs": [
    {
     "data": {
      "text/plain": [
       "0.8366394399066511"
      ]
     },
     "execution_count": 223,
     "metadata": {},
     "output_type": "execute_result"
    }
   ],
   "source": [
    "model.score(X_test_vec,y_test)"
   ]
  },
  {
   "cell_type": "code",
   "execution_count": 224,
   "id": "1a99c458-b2fd-4e5c-91df-49f80e90ab9e",
   "metadata": {},
   "outputs": [
    {
     "name": "stdout",
     "output_type": "stream",
     "text": [
      "              precision    recall  f1-score   support\n",
      "\n",
      "          CU       0.73      0.51      0.60       207\n",
      "          DI       0.86      0.94      0.90       650\n",
      "\n",
      "    accuracy                           0.84       857\n",
      "   macro avg       0.79      0.73      0.75       857\n",
      "weighted avg       0.83      0.84      0.83       857\n",
      "\n"
     ]
    }
   ],
   "source": [
    "from sklearn.metrics import classification_report,f1_score,recall_score,precision_score,confusion_matrix,accuracy_score\n",
    "print(classification_report(y_pred,y_test))"
   ]
  },
  {
   "cell_type": "code",
   "execution_count": 225,
   "id": "9453446e-4833-4c4e-805f-48e63efa5019",
   "metadata": {},
   "outputs": [
    {
     "data": {
      "text/plain": [
       "array([[106,  39],\n",
       "       [101, 611]])"
      ]
     },
     "execution_count": 225,
     "metadata": {},
     "output_type": "execute_result"
    }
   ],
   "source": [
    "cm=confusion_matrix(y_test,y_pred)\n",
    "cm"
   ]
  },
  {
   "cell_type": "code",
   "execution_count": 227,
   "id": "c7eea17e-ffba-47c3-b868-8b604bb922cc",
   "metadata": {},
   "outputs": [
    {
     "data": {
      "text/plain": [
       "Text(8.222222222222223, 0.5, 'Predicted')"
      ]
     },
     "execution_count": 227,
     "metadata": {},
     "output_type": "execute_result"
    },
    {
     "data": {
      "image/png": "[encoded data removed]",
      "text/plain": [
       "<Figure size 300x300 with 2 Axes>"
      ]
     },
     "metadata": {},
     "output_type": "display_data"
    }
   ],
   "source": [
    "plt.figure(figsize=(3,3))\n",
    "\n",
    "sns.heatmap(cm, annot=True, fmt='d', cmap='magma' )\n",
    "plt.xlabel(\"Actual\")\n",
    "plt.ylabel(\"Predicted\")\n"
   ]
  },
  {
   "cell_type": "code",
   "execution_count": 229,
   "id": "2b43709f-92e4-497b-8b33-73fb6e30d01f",
   "metadata": {},
   "outputs": [
    {
     "data": {
      "text/plain": [
       "np.float64(0.8259707642948279)"
      ]
     },
     "execution_count": 229,
     "metadata": {},
     "output_type": "execute_result"
    }
   ],
   "source": [
    "f1_score(y_pred,y_test, average='weighted')"
   ]
  },
  {
   "cell_type": "code",
   "execution_count": 230,
   "id": "05cba1c7-02e1-47c1-938d-c01702800704",
   "metadata": {},
   "outputs": [
    {
     "data": {
      "text/plain": [
       "np.float64(0.8366394399066511)"
      ]
     },
     "execution_count": 230,
     "metadata": {},
     "output_type": "execute_result"
    }
   ],
   "source": [
    "recall_score(y_pred,y_test, average='weighted')"
   ]
  },
  {
   "cell_type": "code",
   "execution_count": 231,
   "id": "7a5d97e3-bb55-4acf-823d-06ea73a4260a",
   "metadata": {},
   "outputs": [
    {
     "data": {
      "text/plain": [
       "np.float64(0.827443502626907)"
      ]
     },
     "execution_count": 231,
     "metadata": {},
     "output_type": "execute_result"
    }
   ],
   "source": [
    "precision_score(y_pred,y_test, average='weighted')"
   ]
  },
  {
   "cell_type": "code",
   "execution_count": 232,
   "id": "a94ab8ae-1761-4a1c-bea0-77bfb9c8e097",
   "metadata": {},
   "outputs": [
    {
     "data": {
      "text/plain": [
       "0.8366394399066511"
      ]
     },
     "execution_count": 232,
     "metadata": {},
     "output_type": "execute_result"
    }
   ],
   "source": [
    "accuracy_score(y_pred,y_test)"
   ]
  },
  {
   "cell_type": "code",
   "execution_count": 233,
   "id": "6b0b5f2e-32ef-4259-b93b-59ec9baa9950",
   "metadata": {},
   "outputs": [],
   "source": [
    "from sklearn.model_selection import StratifiedKFold\n",
    "skfolds = StratifiedKFold(n_splits=10)"
   ]
  },
  {
   "cell_type": "code",
   "execution_count": 234,
   "id": "13cb219f-3097-437a-b7e4-eb4d25a5b037",
   "metadata": {},
   "outputs": [],
   "source": [
    "def model_score (model,X_train,X_test,y_train,y_test):\n",
    "    model.fit(X_train_sm,y_train_sm)\n",
    "    return model.score(X_test,y_test)"
   ]
  },
  {
   "cell_type": "code",
   "execution_count": 235,
   "id": "d3a90154-a6e1-47be-8eb8-a843751a07f2",
   "metadata": {},
   "outputs": [],
   "source": [
    "naive_bayes_result=[]\n",
    "\n",
    "for train_index,test_index in skfolds.split(X,y):\n",
    "    X_train,X_test,y_train,y_test = vectorizer.transform(X[train_index]),vectorizer.transform(X[test_index]),y[train_index],y[test_index]\n",
    "    naive_bayes_result.append(model_score(MultinomialNB(),X_train,X_test,y_train,y_test))"
   ]
  },
  {
   "cell_type": "code",
   "execution_count": 236,
   "id": "a57d09df-96a5-45b6-8621-65f4dce6d6be",
   "metadata": {},
   "outputs": [
    {
     "data": {
      "text/plain": [
       "[0.8974358974358975,\n",
       " 0.8927738927738927,\n",
       " 0.8578088578088578,\n",
       " 0.852803738317757,\n",
       " 0.8714953271028038,\n",
       " 0.883177570093458,\n",
       " 0.8761682242990654,\n",
       " 0.7990654205607477,\n",
       " 0.8364485981308412,\n",
       " 0.8014018691588785]"
      ]
     },
     "execution_count": 236,
     "metadata": {},
     "output_type": "execute_result"
    }
   ],
   "source": [
    "naive_bayes_result"
   ]
  },
  {
   "cell_type": "code",
   "execution_count": null,
   "id": "c6335fbf-1b45-4e6e-85f0-f8774a4ac526",
   "metadata": {},
   "outputs": [],
   "source": []
  }
 ],
 "metadata": {
  "kernelspec": {
   "display_name": "Python 3 (ipykernel)",
   "language": "python",
   "name": "python3"
  },
  "language_info": {
   "codemirror_mode": {
    "name": "ipython",
    "version": 3
   },
   "file_extension": ".py",
   "mimetype": "text/x-python",
   "name": "python",
   "nbconvert_exporter": "python",
   "pygments_lexer": "ipython3",
   "version": "3.12.4"
  }
 },
 "nbformat": 4,
 "nbformat_minor": 5
}
